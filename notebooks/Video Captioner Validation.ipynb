{
 "cells": [
  {
   "cell_type": "code",
   "execution_count": 129,
   "metadata": {},
   "outputs": [
    {
     "name": "stdout",
     "output_type": "stream",
     "text": [
      "The autoreload extension is already loaded. To reload it, use:\n",
      "  %reload_ext autoreload\n"
     ]
    }
   ],
   "source": [
    "%load_ext autoreload\n",
    "%autoreload 2"
   ]
  },
  {
   "cell_type": "code",
   "execution_count": 186,
   "metadata": {},
   "outputs": [],
   "source": [
    "import sys\n",
    "sys.path.append('../src/')\n",
    "\n",
    "from __future__ import print_function\n",
    "import sys\n",
    "import time\n",
    "import os\n",
    "import numpy as np\n",
    "import matplotlib.pyplot as plt\n",
    "import nltk\n",
    "import pickle\n",
    "import pandas as pd\n",
    "import argparse\n",
    "\n",
    "import torch\n",
    "import torch.nn as nn\n",
    "import torch.optim as optim\n",
    "import torchvision\n",
    "from torch.autograd import Variable\n",
    "\n",
    "from utils.Vocabulary import Vocabulary\n",
    "from utils.VideoDataloader import get_video_dataloader, VideoDataset\n",
    "from models.VideoCaptioner import VideoCaptioner"
   ]
  },
  {
   "cell_type": "code",
   "execution_count": 190,
   "metadata": {},
   "outputs": [],
   "source": [
    "videos_path = os.environ['HOME'] + '/Database/MSR-VTT/train-video/'\n",
    "captions_path = '../data/processed/msrvtt_captions.csv'\n",
    "models_path = '../models/'\n",
    "batch_size = 64\n",
    "load_features = True\n",
    "preload = True\n",
    "base_model='vgg16' # 'resnet152'\n",
    "embedding_size = 25088 # 2048\n",
    "\n",
    "load_captions = True"
   ]
  },
  {
   "cell_type": "code",
   "execution_count": 191,
   "metadata": {},
   "outputs": [],
   "source": [
    "vocab_path = '../data/processed/msrvtt_vocab.pkl'"
   ]
  },
  {
   "cell_type": "code",
   "execution_count": 192,
   "metadata": {},
   "outputs": [
    {
     "name": "stdout",
     "output_type": "stream",
     "text": [
      "Loading validation data...Done\n"
     ]
    }
   ],
   "source": [
    "print (\"Loading validation data...\\r\", end=\"\")\n",
    "val_loader = get_video_dataloader('dev',videos_path, \n",
    "                                  vocab_path, captions_path, \n",
    "                                  batch_size, \n",
    "                                  load_features=load_features,\n",
    "                                  load_captions=load_captions,\n",
    "                                  preload=preload,\n",
    "                                  model=base_model,\n",
    "                                  embedding_size=embedding_size,\n",
    "                                  num_workers=0)\n",
    "val_loader.dataset.mode = 'dev'\n",
    "print (\"Loading validation data...Done\")"
   ]
  },
  {
   "cell_type": "code",
   "execution_count": 193,
   "metadata": {},
   "outputs": [],
   "source": [
    "vocab_size = val_loader.dataset.get_vocab_size()\n",
    "start_id = val_loader.dataset.get_idx()[val_loader.dataset.vocab.start_word]\n",
    "end_id = val_loader.dataset.get_idx()[val_loader.dataset.vocab.end_word]\n",
    "max_caption_length = val_loader.dataset.max_len"
   ]
  },
  {
   "cell_type": "code",
   "execution_count": 194,
   "metadata": {},
   "outputs": [],
   "source": [
    "embed_size = 256\n",
    "hidden_size = 512\n",
    "rnn_type = 'lstm'"
   ]
  },
  {
   "cell_type": "code",
   "execution_count": 195,
   "metadata": {},
   "outputs": [],
   "source": [
    "captioner = VideoCaptioner(embedding_size, embed_size, \n",
    "                           hidden_size, vocab_size, \n",
    "                           max_caption_length,\n",
    "                           start_id, end_id,\n",
    "                           rnn_type=rnn_type)\n",
    "\n",
    "if torch.cuda.is_available():\n",
    "  captioner.cuda()"
   ]
  },
  {
   "cell_type": "code",
   "execution_count": 198,
   "metadata": {},
   "outputs": [],
   "source": [
    "model_path = '../models/'\n",
    "model_path += 'video_caption-model10-45-0.3175-5.0.pkl'"
   ]
  },
  {
   "cell_type": "code",
   "execution_count": 199,
   "metadata": {},
   "outputs": [
    {
     "data": {
      "text/plain": [
       "VideoCaptioner(\n",
       "  (inp): Linear(in_features=25088, out_features=256, bias=True)\n",
       "  (inp_dropout): Dropout(p=0.2)\n",
       "  (inp_bn): BatchNorm1d(256, eps=1e-05, momentum=0.01, affine=True, track_running_stats=True)\n",
       "  (embed): Embedding(9648, 256)\n",
       "  (rnn): LSTM(256, 512, batch_first=True)\n",
       "  (out): Linear(in_features=512, out_features=9648, bias=True)\n",
       ")"
      ]
     },
     "execution_count": 199,
     "metadata": {},
     "output_type": "execute_result"
    }
   ],
   "source": [
    "checkpoint = torch.load(model_path)\n",
    "\n",
    "captioner.load_state_dict(checkpoint['params'])\n",
    "captioner.eval()"
   ]
  },
  {
   "cell_type": "code",
   "execution_count": 200,
   "metadata": {},
   "outputs": [],
   "source": [
    "beam_size = 0"
   ]
  },
  {
   "cell_type": "code",
   "execution_count": 201,
   "metadata": {},
   "outputs": [
    {
     "name": "stdout",
     "output_type": "stream",
     "text": [
      "Validation step [0/24], Bleu: 0.2822\n",
      "Validation step [23/24], Bleu: 0.2290\n",
      "Validation -- bleu: 0.2831\n"
     ]
    }
   ],
   "source": [
    "val_bleu = 0.0\n",
    "\n",
    "for val_id, val_batch in enumerate(val_loader):\n",
    "  idxs, vid_embeddings, caption_embeddings = val_batch\n",
    "\n",
    "  if torch.cuda.is_available():\n",
    "    vid_embeddings = vid_embeddings.cuda()\n",
    "    caption_embeddings = caption_embeddings.cuda()\n",
    "\n",
    "  # Get ground truth captions\n",
    "  refs = val_loader.dataset.get_references(idxs)\n",
    "            \n",
    "  preds = captioner.predict(vid_embeddings, beam_size=beam_size)\n",
    "  \n",
    "  # Calculate bleu loss per sample in batch\n",
    "  # Sum and add length normalized sum to val_loss\n",
    "  batch_bleu = 0.0\n",
    "  for pred_id in range(len(preds)):\n",
    "    pred = preds[pred_id].cpu().numpy().astype(int)\n",
    "    pred_embed = val_loader.dataset.vocab.decode(pred, clean=True)\n",
    "    batch_bleu += val_loader.dataset.vocab.evaluate(refs[pred_id], pred_embed)\n",
    "    #print (pred_embed)\n",
    "    #print (refs[pred_id])\n",
    "  val_bleu += (batch_bleu/len(preds))\n",
    "\n",
    "  # Get training statistics\n",
    "  stats = \"Validation step [%d/%d], Bleu: %.4f\" \\\n",
    "            % (val_id, val_loader.dataset.get_seq_len(), \n",
    "                batch_bleu/len(preds))\n",
    "\n",
    "  print(\"\\r\" + stats, end=\"\")\n",
    "  sys.stdout.flush()\n",
    "\n",
    "  if val_id % 250 == 0:\n",
    "    print('\\r' + stats)\n",
    "\n",
    "val_bleu /= val_loader.dataset.get_seq_len()\n",
    "print (\"\\nValidation -- bleu: %.4f\" % (val_bleu))"
   ]
  },
  {
   "cell_type": "code",
   "execution_count": 202,
   "metadata": {},
   "outputs": [
    {
     "name": "stdout",
     "output_type": "stream",
     "text": [
      "Validation step [0/24], Bleu: 0.2867\n",
      "Validation step [23/24], Bleu: 0.2408\n",
      "Validation -- bleu: 0.3102\n"
     ]
    }
   ],
   "source": [
    "val_bleu = 0.0\n",
    "beam_size = 3\n",
    "\n",
    "for val_id, val_batch in enumerate(val_loader):\n",
    "  idxs, vid_embeddings, caption_embeddings = val_batch\n",
    "\n",
    "  if torch.cuda.is_available():\n",
    "    vid_embeddings = vid_embeddings.cuda()\n",
    "    caption_embeddings = caption_embeddings.cuda()\n",
    "\n",
    "  # Get ground truth captions\n",
    "  refs = val_loader.dataset.get_references(idxs)\n",
    "            \n",
    "  preds = captioner.predict(vid_embeddings, beam_size=beam_size)\n",
    "  \n",
    "  # Calculate bleu loss per sample in batch\n",
    "  # Sum and add length normalized sum to val_loss\n",
    "  batch_bleu = 0.0\n",
    "  for pred_id in range(len(preds)):\n",
    "    pred = preds[pred_id].cpu().numpy().astype(int)\n",
    "    pred_embed = val_loader.dataset.vocab.decode(pred, clean=True)\n",
    "    batch_bleu += val_loader.dataset.vocab.evaluate(refs[pred_id], pred_embed)\n",
    "    #print (pred_embed)\n",
    "    #print (refs[pred_id])\n",
    "  val_bleu += (batch_bleu/len(preds))\n",
    "\n",
    "  # Get training statistics\n",
    "  stats = \"Validation step [%d/%d], Bleu: %.4f\" \\\n",
    "            % (val_id, val_loader.dataset.get_seq_len(), \n",
    "                batch_bleu/len(preds))\n",
    "\n",
    "  print(\"\\r\" + stats, end=\"\")\n",
    "  sys.stdout.flush()\n",
    "\n",
    "  if val_id % 250 == 0:\n",
    "    print('\\r' + stats)\n",
    "\n",
    "val_bleu /= val_loader.dataset.get_seq_len()\n",
    "print (\"\\nValidation -- bleu: %.4f\" % (val_bleu))"
   ]
  },
  {
   "cell_type": "code",
   "execution_count": 203,
   "metadata": {},
   "outputs": [
    {
     "name": "stdout",
     "output_type": "stream",
     "text": [
      "Validation step [0/24], Bleu: 0.3220\n",
      "Validation step [23/24], Bleu: 0.3549\n",
      "Validation -- bleu: 0.3184\n"
     ]
    }
   ],
   "source": [
    "val_bleu = 0.0\n",
    "beam_size = 5\n",
    "\n",
    "for val_id, val_batch in enumerate(val_loader):\n",
    "  idxs, vid_embeddings, caption_embeddings = val_batch\n",
    "\n",
    "  if torch.cuda.is_available():\n",
    "    vid_embeddings = vid_embeddings.cuda()\n",
    "    caption_embeddings = caption_embeddings.cuda()\n",
    "\n",
    "  # Get ground truth captions\n",
    "  refs = val_loader.dataset.get_references(idxs)\n",
    "            \n",
    "  preds = captioner.predict(vid_embeddings, beam_size=beam_size)\n",
    "  \n",
    "  # Calculate bleu loss per sample in batch\n",
    "  # Sum and add length normalized sum to val_loss\n",
    "  batch_bleu = 0.0\n",
    "  for pred_id in range(len(preds)):\n",
    "    pred = preds[pred_id].cpu().numpy().astype(int)\n",
    "    pred_embed = val_loader.dataset.vocab.decode(pred, clean=True)\n",
    "    batch_bleu += val_loader.dataset.vocab.evaluate(refs[pred_id], pred_embed)\n",
    "    #print (pred_embed)\n",
    "    #print (refs[pred_id])\n",
    "  val_bleu += (batch_bleu/len(preds))\n",
    "\n",
    "  # Get training statistics\n",
    "  stats = \"Validation step [%d/%d], Bleu: %.4f\" \\\n",
    "            % (val_id, val_loader.dataset.get_seq_len(), \n",
    "                batch_bleu/len(preds))\n",
    "\n",
    "  print(\"\\r\" + stats, end=\"\")\n",
    "  sys.stdout.flush()\n",
    "\n",
    "  if val_id % 250 == 0:\n",
    "    print('\\r' + stats)\n",
    "\n",
    "val_bleu /= val_loader.dataset.get_seq_len()\n",
    "print (\"\\nValidation -- bleu: %.4f\" % (val_bleu))"
   ]
  },
  {
   "cell_type": "code",
   "execution_count": null,
   "metadata": {},
   "outputs": [],
   "source": [
    " "
   ]
  }
 ],
 "metadata": {
  "kernelspec": {
   "display_name": "Environment (conda_pytorch_p36)",
   "language": "python",
   "name": "conda_pytorch_p36"
  },
  "language_info": {
   "codemirror_mode": {
    "name": "ipython",
    "version": 3
   },
   "file_extension": ".py",
   "mimetype": "text/x-python",
   "name": "python",
   "nbconvert_exporter": "python",
   "pygments_lexer": "ipython3",
   "version": "3.6.5"
  }
 },
 "nbformat": 4,
 "nbformat_minor": 2
}
